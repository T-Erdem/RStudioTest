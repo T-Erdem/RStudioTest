{
  "nbformat": 4,
  "nbformat_minor": 0,
  "metadata": {
    "colab": {
      "name": "Assignment-008/6 (Prime Numbers).ipynb ",
      "provenance": [],
      "collapsed_sections": [],
      "authorship_tag": "ABX9TyOoL1VWzfb4RMSRA5LZr9KE",
      "include_colab_link": true
    },
    "kernelspec": {
      "name": "python3",
      "display_name": "Python 3"
    },
    "language_info": {
      "name": "python"
    }
  },
  "cells": [
    {
      "cell_type": "markdown",
      "metadata": {
        "id": "view-in-github",
        "colab_type": "text"
      },
      "source": [
        "<a href=\"https://colab.research.google.com/github/T-Erdem/RStudioTest/blob/master/Assignment_008_6_(Prime_Numbers).ipynb\" target=\"_parent\"><img src=\"https://colab.research.google.com/assets/colab-badge.svg\" alt=\"Open In Colab\"/></a>"
      ]
    },
    {
      "cell_type": "code",
      "metadata": {
        "colab": {
          "base_uri": "https://localhost:8080/"
        },
        "id": "VdBVPmyZkcLj",
        "outputId": "6f70c4f9-8194-4346-f9dc-1690de8a6416"
      },
      "source": [
        "num = int(input(\"Enter a number to get the list of prime number \"))\n",
        "count = 0\n",
        "prime_list = []\n",
        "for n in range(2, num+1) :\n",
        "    for i in range(2, n+1) :\n",
        "        if n % i == 0 : #üsttekinden sadece bu farklı\n",
        "            count += 1\n",
        "    if  (n == 0) or (n == 1) or (count >= 2) :\n",
        "        count = 0\n",
        "    else:\n",
        "      prime_list.append(n)\n",
        "      count = 0\n",
        "print(prime_list)"
      ],
      "execution_count": null,
      "outputs": [
        {
          "output_type": "stream",
          "text": [
            "Enter a number if it is a prime number 100\n",
            "[2, 3, 5, 7, 11, 13, 17, 19, 23, 29, 31, 37, 41, 43, 47, 53, 59, 61, 67, 71, 73, 79, 83, 89, 97]\n"
          ],
          "name": "stdout"
        }
      ]
    },
    {
      "cell_type": "code",
      "metadata": {
        "id": "799VdjZuql0K"
      },
      "source": [
        ""
      ],
      "execution_count": null,
      "outputs": []
    }
  ]
}