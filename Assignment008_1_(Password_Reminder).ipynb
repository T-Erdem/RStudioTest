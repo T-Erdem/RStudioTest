{
  "nbformat": 4,
  "nbformat_minor": 0,
  "metadata": {
    "colab": {
      "name": "Assignment-008/1 (Password Reminder).ipynb adlı not defterinin kopyası",
      "provenance": [],
      "authorship_tag": "ABX9TyNq/0K300dtGFDM0ny86MHG",
      "include_colab_link": true
    },
    "kernelspec": {
      "name": "python3",
      "display_name": "Python 3"
    },
    "language_info": {
      "name": "python"
    }
  },
  "cells": [
    {
      "cell_type": "markdown",
      "metadata": {
        "id": "view-in-github",
        "colab_type": "text"
      },
      "source": [
        "<a href=\"https://colab.research.google.com/github/T-Erdem/RStudioTest/blob/master/Assignment008_1_(Password_Reminder).ipynb\" target=\"_parent\"><img src=\"https://colab.research.google.com/assets/colab-badge.svg\" alt=\"Open In Colab\"/></a>"
      ]
    },
    {
      "cell_type": "code",
      "metadata": {
        "colab": {
          "base_uri": "https://localhost:8080/"
        },
        "id": "D6i43pilWM13",
        "outputId": "50bc32f9-2647-4dd5-fd62-3c39c21fa605"
      },
      "source": [
        "name = input(\"please enter your first name: \")\n",
        "\n",
        "if name.title() == \"Joseph\":\n",
        "  print(\"Hello, Joseph! The password is : W@12\")\n",
        "else:\n",
        "  print(\"Hello, {}! See you later. \".format(name))"
      ],
      "execution_count": null,
      "outputs": [
        {
          "output_type": "stream",
          "text": [
            "please enter your first name: Erdem\n",
            "Hello, Erdem! See you later. \n"
          ],
          "name": "stdout"
        }
      ]
    },
    {
      "cell_type": "code",
      "metadata": {
        "id": "1YgR_2bHXgzr"
      },
      "source": [
        ""
      ],
      "execution_count": null,
      "outputs": []
    }
  ]
}